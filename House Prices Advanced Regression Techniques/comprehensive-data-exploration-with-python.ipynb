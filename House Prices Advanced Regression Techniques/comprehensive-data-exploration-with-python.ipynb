{
  "cells": [
    {
      "metadata": {
        "_uuid": "8f2839f25d086af736a60e9eeb907d3b93b6e0e5",
        "_cell_guid": "b1076dfc-b9ad-4769-8c92-a6c4dae69d19",
        "trusted": true
      },
      "cell_type": "code",
      "source": "# This Python 3 environment comes with many helpful analytics libraries installed\n# It is defined by the kaggle/python docker image: https://github.com/kaggle/docker-python\n# For example, here's several helpful packages to load in \n\nimport numpy as np # linear algebra\nimport pandas as pd # data processing, CSV file I/O (e.g. pd.read_csv)\n\n# Input data files are available in the \"../input/\" directory.\n# For example, running this (by clicking run or pressing Shift+Enter) will list the files in the input directory\n\nimport os\nprint(os.listdir(\"../input\"))\n\n# Any results you write to the current directory are saved as output.",
      "execution_count": null,
      "outputs": []
    },
    {
      "metadata": {
        "_cell_guid": "79c7e3d0-c299-4dcb-8224-4455121ee9b0",
        "_uuid": "d629ff2d2480ee46fbb7e2d37f6b5fab8052498a",
        "trusted": true
      },
      "cell_type": "code",
      "source": "import numpy as np",
      "execution_count": null,
      "outputs": []
    },
    {
      "metadata": {
        "trusted": true,
        "_uuid": "089121a3e65aa25b7d76b17719b5bd993aff36c1"
      },
      "cell_type": "code",
      "source": "import pandas as pd",
      "execution_count": null,
      "outputs": []
    },
    {
      "metadata": {
        "trusted": true,
        "_uuid": "1720ec3a936eecccfc2ca1dd25e66c6ad58706c9"
      },
      "cell_type": "code",
      "source": "import tensorflow as tf",
      "execution_count": null,
      "outputs": []
    },
    {
      "metadata": {
        "trusted": true,
        "_uuid": "72f8aae48f5459bfcf70192a87387ec037d930d6"
      },
      "cell_type": "code",
      "source": "train=pd.read_csv('../input/train.csv')",
      "execution_count": null,
      "outputs": []
    },
    {
      "metadata": {
        "trusted": true,
        "_uuid": "ebf497137ec3512a347ac3d8ed713b887e4ab2fb"
      },
      "cell_type": "code",
      "source": "train.columns",
      "execution_count": null,
      "outputs": []
    },
    {
      "metadata": {
        "trusted": true,
        "_uuid": "2b36e791f10c33c45d5327c9d327aaea51233dca"
      },
      "cell_type": "code",
      "source": "train.SalePrice.describe()",
      "execution_count": null,
      "outputs": []
    },
    {
      "metadata": {
        "trusted": true,
        "_uuid": "1005b24439afca1601fc5475872302159208db44"
      },
      "cell_type": "code",
      "source": "import pandas as pd\nimport matplotlib.pyplot as plt\nimport seaborn as sns\nimport numpy as np\nfrom scipy.stats import norm\nfrom sklearn.preprocessing import StandardScaler\nfrom scipy import stats\nimport warnings\nwarnings.filterwarnings('ignore')\n%matplotlib inline",
      "execution_count": null,
      "outputs": []
    },
    {
      "metadata": {
        "trusted": true,
        "_uuid": "c844d12834f048836f5189f4b40caec1c7b37188"
      },
      "cell_type": "code",
      "source": "sns.distplot(train.SalePrice);\n",
      "execution_count": null,
      "outputs": []
    },
    {
      "metadata": {
        "trusted": true,
        "_uuid": "a01d7284a66cc7fd1a1641ff84d019c2d55030f4"
      },
      "cell_type": "code",
      "source": "train.SalePrice.skew(), train.SalePrice.kurt()",
      "execution_count": null,
      "outputs": []
    },
    {
      "metadata": {
        "trusted": true,
        "_uuid": "2c4712d7278f6777c627d926eaa459ac6389ac2d"
      },
      "cell_type": "code",
      "source": "train.SalePrice.skew()",
      "execution_count": null,
      "outputs": []
    },
    {
      "metadata": {
        "trusted": true,
        "_uuid": "291401744ae0d53dc7ff5ddcd0b83b56b5926b74"
      },
      "cell_type": "code",
      "source": "v= 'GrLivArea'",
      "execution_count": null,
      "outputs": []
    },
    {
      "metadata": {
        "trusted": true,
        "_uuid": "60a247babc21572f55532bc31115cb019d2d1de2"
      },
      "cell_type": "code",
      "source": "plt.scatter(x= train['GrLivArea'],y=train['SalePrice'])",
      "execution_count": null,
      "outputs": []
    },
    {
      "metadata": {
        "trusted": true,
        "_uuid": "1dc2927b188bf07606ca88c187f11b4e446f3cef"
      },
      "cell_type": "code",
      "source": "plt.scatter(train.TotalBsmtSF,train.SalePrice)",
      "execution_count": null,
      "outputs": []
    },
    {
      "metadata": {
        "trusted": true,
        "_uuid": "00f7a44759a343e66797090a4d7f8356c46e87c2"
      },
      "cell_type": "code",
      "source": "fig = sns.boxplot(x=train['OverallQual'], y=train['SalePrice'])",
      "execution_count": null,
      "outputs": []
    },
    {
      "metadata": {
        "trusted": true,
        "_uuid": "c9ee97321953643d278599cc2f8f89d5da616063"
      },
      "cell_type": "code",
      "source": "sns.boxplot(x=train.YearBuilt,y=train.SalePrice),plt.scatter(train.YearBuilt,train.SalePrice)",
      "execution_count": null,
      "outputs": []
    },
    {
      "metadata": {
        "trusted": true,
        "_uuid": "e6cb95797a332cf3acb1f222be1ba769a52b3c13"
      },
      "cell_type": "code",
      "source": "plt.scatter(train.OverallQual,train.SalePrice)",
      "execution_count": null,
      "outputs": []
    },
    {
      "metadata": {
        "trusted": true,
        "_uuid": "8887d1d440d30ad766bba7fdc72f7cae95f16105"
      },
      "cell_type": "code",
      "source": "train.corr()",
      "execution_count": null,
      "outputs": []
    },
    {
      "metadata": {
        "trusted": true,
        "_uuid": "d5e4c947f2c386b349b2ca05884a9f6aaf647b03"
      },
      "cell_type": "code",
      "source": "plt.matshow(train.corr())",
      "execution_count": null,
      "outputs": []
    },
    {
      "metadata": {
        "trusted": true,
        "_uuid": "ecc0a44378c2c82e9c526857a017e31ff4b4080b"
      },
      "cell_type": "code",
      "source": "def plot_corr(df,size=10):\n    '''Function plots a graphical correlation matrix for each pair of columns in the dataframe.\n\n    Input:\n        df: pandas DataFrame\n        size: vertical and horizontal size of the plot'''\n\n    corr = df.corr()\n    fig, ax = plt.subplots(figsize=(size, size))\n    ax.matshow(corr)\n    plt.xticks(range(len(corr.columns)), corr.columns);\n    plt.yticks(range(len(corr.columns)), corr.columns);",
      "execution_count": null,
      "outputs": []
    },
    {
      "metadata": {
        "trusted": true,
        "_uuid": "afea8468a2e48b6222e77567986ba62f1b6c34fe"
      },
      "cell_type": "code",
      "source": "plot_corr(train,20)",
      "execution_count": null,
      "outputs": []
    },
    {
      "metadata": {
        "trusted": true,
        "_uuid": "a202940ef3aba0f88f07bf4895754346444027c2"
      },
      "cell_type": "code",
      "source": "corrmat=train.corr()",
      "execution_count": null,
      "outputs": []
    },
    {
      "metadata": {
        "trusted": true,
        "_uuid": "f91933e6c70ab67ba604b99396f550288e327c4b"
      },
      "cell_type": "code",
      "source": "f,ax=plt.subplots(figsize=(12,12))\nsns.heatmap(corrmat,vmax=0.8);",
      "execution_count": null,
      "outputs": []
    },
    {
      "metadata": {
        "trusted": true,
        "_uuid": "db6735193e1a3e231f15a39f389526a6d083cec1"
      },
      "cell_type": "code",
      "source": "k = 10 #number of variables for heatmap\ncols = corrmat.nlargest(k, 'SalePrice')['SalePrice'].index\ncm = np.corrcoef(train[cols].values.T)\nsns.set(font_scale=1.25)\nhm = sns.heatmap(cm, cbar=True, annot=True, square=True, fmt='.2f', annot_kws={'size': 10}, yticklabels=cols.values, xticklabels=cols.values)\nplt.show()",
      "execution_count": null,
      "outputs": []
    },
    {
      "metadata": {
        "trusted": true,
        "_uuid": "139e287eef584ede3d582be0f5153876ec395ea4"
      },
      "cell_type": "code",
      "source": "corrmat.nlargest(k, 'SalePrice')",
      "execution_count": null,
      "outputs": []
    },
    {
      "metadata": {
        "trusted": true,
        "_uuid": "2542d0fd08cfe9fcf971ce5b1d1ddb163cb85b18"
      },
      "cell_type": "code",
      "source": "sns.set()\ncols=['SalePrice', 'OverallQual', 'GrLivArea', 'GarageCars', 'TotalBsmtSF', 'FullBath', 'YearBuilt']\nsns.pairplot(train[cols],size=2.5)\nplt.show()",
      "execution_count": null,
      "outputs": []
    },
    {
      "metadata": {
        "trusted": true,
        "_uuid": "38578557d65682f3ec75e6592a7e36179c310d12"
      },
      "cell_type": "code",
      "source": "total=train.isnull().sum().sort_values(ascending=False)",
      "execution_count": null,
      "outputs": []
    },
    {
      "metadata": {
        "trusted": true,
        "_uuid": "675fcd16d2fffee8c7d01e29ff253509aa3e4887"
      },
      "cell_type": "code",
      "source": "percent=train.isnull().sum()/train.isnull().count().sort_values(ascending=False)",
      "execution_count": null,
      "outputs": []
    },
    {
      "metadata": {
        "trusted": true,
        "_uuid": "a540bbaf42109d5dcbf33041fff75f90c263d8b8"
      },
      "cell_type": "code",
      "source": "missing_data=pd.concat([total,percent],axis=1,keys=['Total', 'Percent'])",
      "execution_count": null,
      "outputs": []
    },
    {
      "metadata": {
        "trusted": true,
        "_uuid": "f03aac60106da344af14493a902d0d12d66db09a"
      },
      "cell_type": "code",
      "source": "missing_data.head(20)",
      "execution_count": null,
      "outputs": []
    },
    {
      "metadata": {
        "trusted": true,
        "_uuid": "5490b77db8379b984021a8d67c0977e28f24982d"
      },
      "cell_type": "code",
      "source": "total = train.isnull().sum().sort_values(ascending=False)\npercent = (train.isnull().sum()/train.isnull().count()).sort_values(ascending=False)\nmissing_data = pd.concat([total, percent], axis=1, keys=['Total', 'Percent'])\nmissing_data.head(20)",
      "execution_count": null,
      "outputs": []
    },
    {
      "metadata": {
        "trusted": true,
        "_uuid": "afdd8673a4518fdd3bd9572d02ba3f49940f8f8b"
      },
      "cell_type": "code",
      "source": "total = train.isnull().sum().sort_values(ascending=False)",
      "execution_count": null,
      "outputs": []
    },
    {
      "metadata": {
        "trusted": true,
        "_uuid": "eb74bc0f9f29fd7a6e6358602ab70db0de5c3260"
      },
      "cell_type": "code",
      "source": "total",
      "execution_count": null,
      "outputs": []
    },
    {
      "metadata": {
        "trusted": true,
        "_uuid": "9575492ef4c8b1d62f2fc22f2f1738bba5d0ba6d"
      },
      "cell_type": "code",
      "source": "train.isnull().count().sort_values(ascending=False)",
      "execution_count": null,
      "outputs": []
    },
    {
      "metadata": {
        "trusted": true,
        "_uuid": "effab6aeeff0c858d6e4d29ef878167a3a9f9c24"
      },
      "cell_type": "code",
      "source": "train = train.drop((missing_data[missing_data['Total'] > 1]).index,1)\ntrain = train.drop(train.loc[train['Electrical'].isnull()].index)\ntrain.isnull().sum().max()",
      "execution_count": null,
      "outputs": []
    },
    {
      "metadata": {
        "trusted": true,
        "_uuid": "b2d7f9380a866a2ee8fe7ad3efec403bc599f143"
      },
      "cell_type": "code",
      "source": "saleprice_scaled = StandardScaler().fit_transform(train['SalePrice'][:,np.newaxis]);\nlow_range = saleprice_scaled[saleprice_scaled[:,0].argsort()][:10]\nhigh_range= saleprice_scaled[saleprice_scaled[:,0].argsort()][-10:]",
      "execution_count": null,
      "outputs": []
    },
    {
      "metadata": {
        "trusted": true,
        "_uuid": "4d6c8b270047362002c20d2a0d2435739f183138"
      },
      "cell_type": "code",
      "source": "print('outer range (low) of the distribution:')\nprint(low_range)\nprint('\\nouter range (high) of the distribution:')\nprint(high_range)",
      "execution_count": null,
      "outputs": []
    },
    {
      "metadata": {
        "trusted": true,
        "_uuid": "d23c56de780700611594c5c3a58ce4b4a77d49b7"
      },
      "cell_type": "code",
      "source": "sns.distplot(train.SalePrice);",
      "execution_count": null,
      "outputs": []
    },
    {
      "metadata": {
        "trusted": true,
        "_uuid": "b98ab8b279e29a225d6f46f3147ec3d73decf9c8"
      },
      "cell_type": "code",
      "source": "plt.scatter(x=train.GrLivArea, y=train.SalePrice)",
      "execution_count": null,
      "outputs": []
    },
    {
      "metadata": {
        "trusted": true,
        "_uuid": "a83f5594133a2a15af07592293ef8b2f31b244e6"
      },
      "cell_type": "code",
      "source": "train.sort_values(by = 'GrLivArea', ascending = False)[:2]",
      "execution_count": null,
      "outputs": []
    },
    {
      "metadata": {
        "trusted": true,
        "_uuid": "ab7094a827da835a8011d1a97854e389181f00c2"
      },
      "cell_type": "code",
      "source": "train = train.drop(train[train['Id'] == 1299].index)\ntrain = train.drop(train[train['Id'] == 524].index)",
      "execution_count": null,
      "outputs": []
    },
    {
      "metadata": {
        "trusted": true,
        "_uuid": "4262d29fa2ddf10c42bfe94e6a96dee010ff74cb"
      },
      "cell_type": "code",
      "source": "plt.scatter(x=train.GrLivArea, y=train.SalePrice)",
      "execution_count": null,
      "outputs": []
    },
    {
      "metadata": {
        "trusted": true,
        "_uuid": "5583098437a19f68deaface798f20f0a15ce55e8"
      },
      "cell_type": "code",
      "source": "sns.distplot(train['SalePrice'], fit=norm);\nfig = plt.figure()\nres = stats.probplot(train['SalePrice'], plot=plt)",
      "execution_count": null,
      "outputs": []
    },
    {
      "metadata": {
        "trusted": true,
        "_uuid": "4c6cb383de49f9a2521da71bc23803922d9d62c3"
      },
      "cell_type": "code",
      "source": "train['SalePrice'] = np.log(train['SalePrice'])",
      "execution_count": null,
      "outputs": []
    },
    {
      "metadata": {
        "trusted": true,
        "_uuid": "f3edbb76f1d926086a8d7136890ba2dbc2131095"
      },
      "cell_type": "code",
      "source": "sns.distplot(train['SalePrice'], fit=norm);\nfig = plt.figure()\nres = stats.probplot(train['SalePrice'], plot=plt)",
      "execution_count": null,
      "outputs": []
    },
    {
      "metadata": {
        "trusted": true,
        "_uuid": "8e7ec9652e4464ac45b2b4e658071e6b866a866a"
      },
      "cell_type": "code",
      "source": "sns.distplot(train['GrLivArea'], fit=norm);\nfig = plt.figure()\nres = stats.probplot(train['GrLivArea'], plot=plt)",
      "execution_count": null,
      "outputs": []
    },
    {
      "metadata": {
        "trusted": true,
        "_uuid": "25cfc011f7e509ce0c3c54e24808fc32a6af4a57"
      },
      "cell_type": "code",
      "source": "train['GrLivArea'] = np.log(train['GrLivArea'])",
      "execution_count": null,
      "outputs": []
    },
    {
      "metadata": {
        "trusted": true,
        "_uuid": "07f88fe24c438488ea319d0e334aece113ebc7fe"
      },
      "cell_type": "code",
      "source": "sns.distplot(train['GrLivArea'], fit=norm);\nfig = plt.figure()\nres = stats.probplot(train['GrLivArea'], plot=plt)",
      "execution_count": null,
      "outputs": []
    },
    {
      "metadata": {
        "trusted": true,
        "_uuid": "a4f030dea008bf654343163daf89b983fd27e50a"
      },
      "cell_type": "code",
      "source": "sns.distplot(train['TotalBsmtSF'], fit=norm);\nfig = plt.figure()\nres = stats.probplot(train['TotalBsmtSF'], plot=plt)",
      "execution_count": null,
      "outputs": []
    },
    {
      "metadata": {
        "trusted": true,
        "_uuid": "50317152963bc4641fb04a8954fb2d90f2485d92"
      },
      "cell_type": "code",
      "source": "train['TotalBsmtSF2'] = np.log(train['TotalBsmtSF'])",
      "execution_count": null,
      "outputs": []
    },
    {
      "metadata": {
        "trusted": true,
        "_uuid": "65493812f8362365bd587c2af74daade5f67094c"
      },
      "cell_type": "code",
      "source": "sns.distplot(train['TotalBsmtSF2'], fit=norm);\nfig = plt.figure()\nres = stats.probplot(train['TotalBsmtSF2'], plot=plt)",
      "execution_count": null,
      "outputs": []
    },
    {
      "metadata": {
        "trusted": true,
        "_uuid": "8976891539e05c6dca1cc388a27099615ed2f047"
      },
      "cell_type": "code",
      "source": "train['HasBsmt']=pd.Series(len(train.TotalBsmtSF),index=train.index)",
      "execution_count": null,
      "outputs": []
    },
    {
      "metadata": {
        "trusted": true,
        "_uuid": "18469211baf3fd6767797b1f5c1693fad31b12a9"
      },
      "cell_type": "code",
      "source": "train.HasBsmt=0;",
      "execution_count": null,
      "outputs": []
    },
    {
      "metadata": {
        "trusted": true,
        "_uuid": "3c6a91cd6c95c3697ada519a0e14c1d1114e561b"
      },
      "cell_type": "code",
      "source": "train.loc[train.HasBsmt>0,'HasBsmt']=1",
      "execution_count": null,
      "outputs": []
    },
    {
      "metadata": {
        "trusted": true,
        "_uuid": "3bb31fc93bdd544d9cdf0135c40906cc5f0cade3"
      },
      "cell_type": "code",
      "source": "train.loc[train['HasBsmt']==1,'TotalBsmtSF'] = np.log(train['TotalBsmtSF'])",
      "execution_count": null,
      "outputs": []
    },
    {
      "metadata": {
        "trusted": true,
        "_uuid": "a3f4f216d40a8e0337a5287d10132052bcad5729"
      },
      "cell_type": "code",
      "source": "sns.distplot(train[train['TotalBsmtSF']>0]['TotalBsmtSF'], fit=norm);\nfig = plt.figure()\nres = stats.probplot(train[train['TotalBsmtSF']>0]['TotalBsmtSF'], plot=plt)",
      "execution_count": null,
      "outputs": []
    },
    {
      "metadata": {
        "trusted": true,
        "_uuid": "188d7e04420c7c168ae10cba07faeb0c6ffab2b6"
      },
      "cell_type": "code",
      "source": "train['HasBsmt'] = pd.Series(len(train['TotalBsmtSF']), index=train.index)\ntrain['HasBsmt'] = 0 \ntrain.loc[train['TotalBsmtSF']>0,'HasBsmt'] = 1",
      "execution_count": null,
      "outputs": []
    },
    {
      "metadata": {
        "trusted": true,
        "_uuid": "d6eac5cef0d22f0fe60c38274056ca5196e53143"
      },
      "cell_type": "code",
      "source": "train.loc[train['HasBsmt']==1,'TotalBsmtSF'] = np.log(train['TotalBsmtSF'])",
      "execution_count": null,
      "outputs": []
    },
    {
      "metadata": {
        "trusted": true,
        "_uuid": "c41075099a3bce67f2d05b44560f9ad27eb8eb79"
      },
      "cell_type": "code",
      "source": "sns.distplot(train[train['TotalBsmtSF']>0]['TotalBsmtSF'], fit=norm);\nfig = plt.figure()\nres = stats.probplot(train[train['TotalBsmtSF']>0]['TotalBsmtSF'], plot=plt)",
      "execution_count": null,
      "outputs": []
    },
    {
      "metadata": {
        "trusted": true,
        "_uuid": "4b93b4ea909d95269f16c4de700fe9589f1d4298"
      },
      "cell_type": "code",
      "source": "train = pd.get_dummies(train)",
      "execution_count": null,
      "outputs": []
    },
    {
      "metadata": {
        "trusted": true,
        "_uuid": "6ea0cedb6899816654f872e54886973a7d572046"
      },
      "cell_type": "code",
      "source": "list(train)",
      "execution_count": null,
      "outputs": []
    },
    {
      "metadata": {
        "trusted": true,
        "_uuid": "042fee587ca37d152ed933976f996b887e12aac9"
      },
      "cell_type": "code",
      "source": "",
      "execution_count": null,
      "outputs": []
    }
  ],
  "metadata": {
    "kernelspec": {
      "display_name": "Python 3",
      "language": "python",
      "name": "python3"
    },
    "language_info": {
      "name": "python",
      "version": "3.6.6",
      "mimetype": "text/x-python",
      "codemirror_mode": {
        "name": "ipython",
        "version": 3
      },
      "pygments_lexer": "ipython3",
      "nbconvert_exporter": "python",
      "file_extension": ".py"
    }
  },
  "nbformat": 4,
  "nbformat_minor": 1
}