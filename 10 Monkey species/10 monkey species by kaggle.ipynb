{
  "cells": [
    {
      "metadata": {
        "_cell_guid": "40183c56-05f0-4e88-a2c8-ca36b9fb2aec",
        "_uuid": "9fa1b3faace5b1744550808dcacc08fa30f30d06"
      },
      "cell_type": "markdown",
      "source": "# Prepare the dataset and resnet50 model\nClick top-right arrow-like button to expand the sidebar, select the **Data**  tab and add the resnet50 dataset and the pre-train model as **Data Source** of this notebook[](http://)"
    },
    {
      "metadata": {
        "_cell_guid": "b1076dfc-b9ad-4769-8c92-a6c4dae69d19",
        "_uuid": "8f2839f25d086af736a60e9eeb907d3b93b6e0e5",
        "trusted": true,
        "collapsed": true
      },
      "cell_type": "code",
      "source": "# This Python 3 environment comes with many helpful analytics libraries installed\n# It is defined by the kaggle/python docker image: https://github.com/kaggle/docker-python\n# For example, here's several helpful packages to load in \n\nimport numpy as np # linear algebra\nimport pandas as pd # data processing, CSV file I/O (e.g. pd.read_csv)\n\n# Input data files are available in the \"../input/\" directory.\n# For example, running this (by clicking run or pressing Shift+Enter) will list the files in the input directory\n\nimport os\nprint(os.listdir(\"../input\"))\n\n# Any results you write to the current directory are saved as output.",
      "execution_count": null,
      "outputs": []
    },
    {
      "metadata": {
        "_cell_guid": "c5d0199f-a941-4ec7-af74-16bed31ba60a",
        "_uuid": "56008b98af6b005655eb265c786dfbc08fe5dd7b"
      },
      "cell_type": "markdown",
      "source": "## Prepare data"
    },
    {
      "metadata": {
        "_cell_guid": "ddbe2a9c-62ce-4643-8f8e-e6abc0abd6b4",
        "_uuid": "299d26ecdce108b71461b2785619bb15e4510470",
        "trusted": true,
        "collapsed": true
      },
      "cell_type": "code",
      "source": "monkey_species = pd.read_csv('../input/10-monkey-species/monkey_labels.txt')\nmonkey_species",
      "execution_count": null,
      "outputs": []
    },
    {
      "metadata": {
        "_cell_guid": "33afec3f-1e54-4a5b-a337-630c65729f09",
        "_uuid": "70cb0cbd724647d582d9a73fcd859b6a3d826e45",
        "trusted": true,
        "collapsed": true
      },
      "cell_type": "code",
      "source": "import matplotlib.pyplot as plt\n%matplotlib inline\n\nplt.figure(figsize=(20, 10))\nfor i in range(10):\n    plt.subplot(2, 5, i+1)\n    class_name = 'n' + str(i)\n    plt.imshow(plt.imread('../input/10-monkey-species/validation/validation/' + class_name + '/' + class_name + '00.jpg'))\n    plt.xlabel(class_name)",
      "execution_count": null,
      "outputs": []
    },
    {
      "metadata": {
        "_cell_guid": "c7c32e42-2ee8-44af-8a84-a95cca0d1af0",
        "_uuid": "3599d188a8b465bd98a529b995ccbc3556e3bba6",
        "trusted": true,
        "collapsed": true
      },
      "cell_type": "code",
      "source": "from tensorflow.python.keras.applications.resnet50 import preprocess_input\nfrom tensorflow.python.keras.preprocessing.image import ImageDataGenerator\n\nrandom_seed = 777\nnum_classes = 10\n# the default input of ResNet50 model is 224x224\nimage_size = 224\n\n# preprocessing_function could not be used currently, https://github.com/keras-team/keras/issues/9624\n# data_generator = ImageDataGenerator(preprocessing_function=preprocess_input)\ndata_generator = ImageDataGenerator()\n\ntrain_directory = '../input/10-monkey-species/training/training'\nvalidation_directory = '../input/10-monkey-species/validation/validation'\n\ntrain_generator = data_generator.flow_from_directory(\n    directory=train_directory,\n    batch_size=20,\n    seed=random_seed,\n    target_size=(image_size, image_size),\n    class_mode='categorical')\n\nvalidation_generator = data_generator.flow_from_directory(\n    directory=validation_directory,\n    seed=random_seed,\n    target_size=(image_size, image_size),\n    shuffle=False,\n    class_mode='categorical')",
      "execution_count": null,
      "outputs": []
    },
    {
      "metadata": {
        "_cell_guid": "060195e7-0259-4e56-bfe6-0c526cbb2cd3",
        "_uuid": "2094445d241804c65fe07548f53a6512cf98ca76"
      },
      "cell_type": "markdown",
      "source": "## Transfer Learning - use pretrain ResNet50 model"
    },
    {
      "metadata": {
        "_cell_guid": "79c7e3d0-c299-4dcb-8224-4455121ee9b0",
        "_uuid": "d629ff2d2480ee46fbb7e2d37f6b5fab8052498a",
        "trusted": true,
        "collapsed": true
      },
      "cell_type": "code",
      "source": "from tensorflow.python.keras.applications import ResNet50\nfrom tensorflow.python.keras.models import Sequential\nfrom tensorflow.python.keras.layers import Dense\n\nresnet_weights_path = '../input/resnet50/resnet50_weights_tf_dim_ordering_tf_kernels_notop.h5'\n\nmonkey_model = Sequential()\nmonkey_model.add(ResNet50(include_top=False, pooling='avg', weights=resnet_weights_path))\nmonkey_model.add(Dense(num_classes, activation='softmax'))\n\nmonkey_model.layers[0].trainable = False\n\nmonkey_model.compile(optimizer='sgd', loss='categorical_crossentropy', metrics=['accuracy'])",
      "execution_count": null,
      "outputs": []
    },
    {
      "metadata": {
        "_cell_guid": "00738925-1e1c-407d-8b49-8a2204cb6a3d",
        "_uuid": "63f3cb6f01701b93750190c93023bb28978d0dbe",
        "trusted": true,
        "collapsed": true
      },
      "cell_type": "code",
      "source": "monkey_model.fit_generator(\n    generator=train_generator,\n    steps_per_epoch=55,\n    epochs=3,\n    validation_data=validation_generator,\n    validation_steps=1)",
      "execution_count": null,
      "outputs": []
    },
    {
      "metadata": {
        "_cell_guid": "0fac1e1c-ba1d-4fab-b7d9-b83e4a40b365",
        "_uuid": "696ef972262e43f3d043b4525d6f5fd40fa31b6e",
        "trusted": true,
        "collapsed": true
      },
      "cell_type": "code",
      "source": "preds = monkey_model.predict_generator(generator=validation_generator, steps=1)",
      "execution_count": null,
      "outputs": []
    },
    {
      "metadata": {
        "_cell_guid": "bcce68d2-24dc-45bb-a334-2caff0e898aa",
        "_uuid": "e42c3224509b7aa5c50c111263d65707934638fa",
        "trusted": true,
        "collapsed": true
      },
      "cell_type": "code",
      "source": "top3_idx = np.argsort(preds, axis=1)[:, -1:-4:-1]\ntop3_idx[:5]",
      "execution_count": null,
      "outputs": []
    },
    {
      "metadata": {
        "_cell_guid": "838c20f0-25f1-485d-82db-5375c2777ed1",
        "_kg_hide-input": false,
        "_uuid": "50d18c24dbd089471c6db701f194153043864c8d",
        "trusted": true,
        "collapsed": true
      },
      "cell_type": "code",
      "source": "from IPython.display import Image, display\n\nfor row_idx, row in enumerate(top3_idx[:5]):\n    filename = validation_generator.filenames[row_idx]\n    display(Image(validation_directory + '/' + filename, width=500))\n    print([(filename, class_idx, preds[row_idx, class_idx]) for col_idx, class_idx in enumerate(row)])",
      "execution_count": null,
      "outputs": []
    },
    {
      "metadata": {
        "_cell_guid": "168e169a-7c47-4306-b5a4-8c3c75af1801",
        "_uuid": "652b51a02ce138c6c4fbfaaa9f2b4e163ee98647",
        "collapsed": true,
        "trusted": false
      },
      "cell_type": "code",
      "source": "",
      "execution_count": null,
      "outputs": []
    }
  ],
  "metadata": {
    "kernelspec": {
      "display_name": "Python 3",
      "language": "python",
      "name": "python3"
    },
    "language_info": {
      "name": "python",
      "version": "3.6.5",
      "mimetype": "text/x-python",
      "codemirror_mode": {
        "name": "ipython",
        "version": 3
      },
      "pygments_lexer": "ipython3",
      "nbconvert_exporter": "python",
      "file_extension": ".py"
    }
  },
  "nbformat": 4,
  "nbformat_minor": 1
}