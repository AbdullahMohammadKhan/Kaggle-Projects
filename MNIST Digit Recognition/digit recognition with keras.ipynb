{
  "cells": [
    {
      "metadata": {
        "_uuid": "8f2839f25d086af736a60e9eeb907d3b93b6e0e5",
        "_cell_guid": "b1076dfc-b9ad-4769-8c92-a6c4dae69d19",
        "trusted": true,
        "collapsed": true
      },
      "cell_type": "code",
      "source": "# This Python 3 environment comes with many helpful analytics libraries installed\n# It is defined by the kaggle/python docker image: https://github.com/kaggle/docker-python\n# For example, here's several helpful packages to load in \n\nimport numpy as np # linear algebra\nimport pandas as pd # data processing, CSV file I/O (e.g. pd.read_csv)\n\n# Input data files are available in the \"../input/\" directory.\n# For example, running this (by clicking run or pressing Shift+Enter) will list the files in the input directory\n\nimport os\nprint(os.listdir(\"../input\"))\n\n# Any results you write to the current directory are saved as output.",
      "execution_count": null,
      "outputs": []
    },
    {
      "metadata": {
        "_cell_guid": "79c7e3d0-c299-4dcb-8224-4455121ee9b0",
        "_uuid": "d629ff2d2480ee46fbb7e2d37f6b5fab8052498a",
        "trusted": true,
        "collapsed": true
      },
      "cell_type": "code",
      "source": "import pandas as pd\nimport numpy as np\nimport matplotlib.pyplot as plt\nimport matplotlib.image as mpimg\nimport seaborn as sns\n%matplotlib inline\n\nnp.random.seed(2)\n\nfrom sklearn.model_selection import train_test_split\nfrom sklearn.metrics import confusion_matrix\nimport itertools\n\nfrom keras.utils.np_utils import to_categorical # convert to one-hot-encoding\nfrom keras.models import Sequential\nfrom keras.layers import Dense, Dropout, Flatten, Conv2D, MaxPool2D\nfrom keras.optimizers import RMSprop\nfrom keras.preprocessing.image import ImageDataGenerator\nfrom keras.callbacks import ReduceLROnPlateau",
      "execution_count": null,
      "outputs": []
    },
    {
      "metadata": {
        "trusted": true,
        "collapsed": true,
        "_uuid": "beac8a0ef400ede8da6469302b557ed1b35214e1"
      },
      "cell_type": "code",
      "source": "train=pd.read_csv('../input/train.csv')\ntest=pd.read_csv('../input/test.csv')",
      "execution_count": null,
      "outputs": []
    },
    {
      "metadata": {
        "trusted": true,
        "_uuid": "b9a48fcee1b49921f09bcd38e1e54ac8a1e7eee0",
        "collapsed": true
      },
      "cell_type": "code",
      "source": "train.head(5)",
      "execution_count": null,
      "outputs": []
    },
    {
      "metadata": {
        "trusted": true,
        "collapsed": true,
        "_uuid": "0b3adc3d693bd81f8fed2c32a3f01c235ee149c1"
      },
      "cell_type": "code",
      "source": "ytrain=train.label",
      "execution_count": null,
      "outputs": []
    },
    {
      "metadata": {
        "trusted": true,
        "collapsed": true,
        "_uuid": "3f401f02adf526c3e924ac5f2d33b6a5eb20ce12"
      },
      "cell_type": "code",
      "source": "xtrain=train.drop(labels=['label'],axis=1)",
      "execution_count": null,
      "outputs": []
    },
    {
      "metadata": {
        "trusted": true,
        "collapsed": true,
        "_uuid": "3f0a3fd776687b183d74a1baeacbedc862240f9a"
      },
      "cell_type": "code",
      "source": "del train",
      "execution_count": null,
      "outputs": []
    },
    {
      "metadata": {
        "trusted": true,
        "_uuid": "924d61ea4e5455b35247788d60bda36003893857",
        "collapsed": true
      },
      "cell_type": "code",
      "source": "g=sns.countplot(ytrain)",
      "execution_count": null,
      "outputs": []
    },
    {
      "metadata": {
        "trusted": true,
        "_uuid": "5ff8920942bd07f4cea96a4284f5c2a6da9ab8b0",
        "collapsed": true
      },
      "cell_type": "code",
      "source": "ytrain.value_counts()",
      "execution_count": null,
      "outputs": []
    },
    {
      "metadata": {
        "trusted": true,
        "collapsed": true,
        "_uuid": "d3498a33d34dd6ad26a905208782faba56d3292e"
      },
      "cell_type": "code",
      "source": "xtrain/=255.0\ntest/=255.0",
      "execution_count": null,
      "outputs": []
    },
    {
      "metadata": {
        "trusted": true,
        "collapsed": true,
        "_uuid": "15e371cc8de07234e027961b6f05de54c771c30d"
      },
      "cell_type": "code",
      "source": "xtrain=xtrain.values.reshape(-1,28,28,1)\ntest=test.values.reshape(-1,28,28,1)",
      "execution_count": null,
      "outputs": []
    },
    {
      "metadata": {
        "trusted": true,
        "collapsed": true,
        "_uuid": "d10319ce6a84b79224ac136fa76ef6ed0c2d81f1"
      },
      "cell_type": "code",
      "source": "ytrain=to_categorical(ytrain,num_classes=10)",
      "execution_count": null,
      "outputs": []
    },
    {
      "metadata": {
        "trusted": true,
        "collapsed": true,
        "_uuid": "7956421fd59075a7fbf2d85c1c832b11312b91ea"
      },
      "cell_type": "code",
      "source": "x_train,x_val,y_train,y_val=train_test_split(xtrain,ytrain,test_size=0.1,random_state=2)",
      "execution_count": null,
      "outputs": []
    },
    {
      "metadata": {
        "trusted": true,
        "collapsed": true,
        "_uuid": "759f2ac544d1ecfd7d1a6892268b6ca7d836394b"
      },
      "cell_type": "code",
      "source": "model=Sequential()",
      "execution_count": null,
      "outputs": []
    },
    {
      "metadata": {
        "trusted": true,
        "collapsed": true,
        "_uuid": "c3bb5b816ef7408512b802f5c7a1a02d17ae71c7"
      },
      "cell_type": "code",
      "source": "model.add(Conv2D(filters=32,kernel_size=(5,5),padding='Same',activation='relu',input_shape=(28,28,1)))",
      "execution_count": null,
      "outputs": []
    },
    {
      "metadata": {
        "trusted": true,
        "collapsed": true,
        "_uuid": "4fa0109ee071d3a790402604c586da61ae8db070"
      },
      "cell_type": "code",
      "source": "model.add(Conv2D(filters=32,kernel_size=(5,5),padding='Same',activation='relu'))",
      "execution_count": null,
      "outputs": []
    },
    {
      "metadata": {
        "trusted": true,
        "collapsed": true,
        "_uuid": "dd3a4e5c11bf09ae93d16ac940e325a91d14edbc"
      },
      "cell_type": "code",
      "source": "model.add(MaxPool2D(pool_size=(2,2)))",
      "execution_count": null,
      "outputs": []
    },
    {
      "metadata": {
        "trusted": true,
        "collapsed": true,
        "_uuid": "16cdd2dcb5e1bfffe3f87a68f78b20cfde4b8614"
      },
      "cell_type": "code",
      "source": "model.add(Dropout(0.25))",
      "execution_count": null,
      "outputs": []
    },
    {
      "metadata": {
        "trusted": true,
        "collapsed": true,
        "_uuid": "9ba44f1fc2837157d00bd2600e113cb4a767af3c"
      },
      "cell_type": "code",
      "source": "model.add(Conv2D(filters=64,kernel_size=(3,3),padding='Same',activation='relu'))",
      "execution_count": null,
      "outputs": []
    },
    {
      "metadata": {
        "trusted": true,
        "collapsed": true,
        "_uuid": "f4f1152158972de544dce6a7a07878bc7f0a0d21"
      },
      "cell_type": "code",
      "source": "model.add(Conv2D(filters=64,kernel_size=(3,3),padding='Same',activation='relu'))",
      "execution_count": null,
      "outputs": []
    },
    {
      "metadata": {
        "trusted": true,
        "collapsed": true,
        "_uuid": "8af5ed2291be516a54c12620201bfded80295924"
      },
      "cell_type": "code",
      "source": "model.add(MaxPool2D(pool_size=(2,2),strides=(2,2)))",
      "execution_count": null,
      "outputs": []
    },
    {
      "metadata": {
        "trusted": true,
        "collapsed": true,
        "_uuid": "10d438d0fa505531db0d232f83cf53749205494c"
      },
      "cell_type": "code",
      "source": "model.add(Dropout(0.25))",
      "execution_count": null,
      "outputs": []
    },
    {
      "metadata": {
        "trusted": true,
        "collapsed": true,
        "_uuid": "5c4600a4f5ac9074b1dd5001473dc2c5f4f7dc11"
      },
      "cell_type": "code",
      "source": "model.add(Flatten())",
      "execution_count": null,
      "outputs": []
    },
    {
      "metadata": {
        "trusted": true,
        "collapsed": true,
        "_uuid": "0ff73fd1cb25e3061b9b9f009f1f52f0373e13a4"
      },
      "cell_type": "code",
      "source": "model.add(Dense(256,activation=\"relu\"))",
      "execution_count": null,
      "outputs": []
    },
    {
      "metadata": {
        "trusted": true,
        "collapsed": true,
        "_uuid": "a7a2703174cedd11dfabc03e4abacee8e52914ad"
      },
      "cell_type": "code",
      "source": "model.add(Dropout(0.5))",
      "execution_count": null,
      "outputs": []
    },
    {
      "metadata": {
        "trusted": true,
        "collapsed": true,
        "_uuid": "cad13984e094612192baa4d5b35e85b1e1b35224"
      },
      "cell_type": "code",
      "source": "model.add(Dense(10,activation=\"softmax\"))",
      "execution_count": null,
      "outputs": []
    },
    {
      "metadata": {
        "trusted": true,
        "collapsed": true,
        "_uuid": "bbf06b0138cc4f387d72891601309c26612d52d1"
      },
      "cell_type": "code",
      "source": "optimizer=RMSprop(lr=0.001,rho=0.9,epsilon=1e-08,decay=0.0)",
      "execution_count": null,
      "outputs": []
    },
    {
      "metadata": {
        "trusted": true,
        "collapsed": true,
        "_uuid": "81b22f2f4110ea19ea81fa0a5e20551abe5c04bf"
      },
      "cell_type": "code",
      "source": "model.compile(optimizer=optimizer, loss=\"categorical_crossentropy\",metrics=[\"accuracy\"])",
      "execution_count": null,
      "outputs": []
    },
    {
      "metadata": {
        "trusted": true,
        "collapsed": true,
        "_uuid": "6e23ef9236dfdf9a0bd572ddf9b108fd78485f73"
      },
      "cell_type": "code",
      "source": "lr_reduction=ReduceLROnPlateau(monitor='val_acc',patience=3,verbose=1,factor=0.5,min_lr=0.00001)",
      "execution_count": null,
      "outputs": []
    },
    {
      "metadata": {
        "trusted": true,
        "collapsed": true,
        "_uuid": "55b2da2659721a7ec5623a7d03f83ebf988dbb3f"
      },
      "cell_type": "code",
      "source": "epochs=1\nbatch_size=86",
      "execution_count": null,
      "outputs": []
    },
    {
      "metadata": {
        "trusted": true,
        "collapsed": true,
        "_uuid": "267e01bf7681f14776e42bba63d1a7928865638a"
      },
      "cell_type": "code",
      "source": "datagen = ImageDataGenerator(\n        featurewise_center=False,  # set input mean to 0 over the dataset\n        samplewise_center=False,  # set each sample mean to 0\n        featurewise_std_normalization=False,  # divide inputs by std of the dataset\n        samplewise_std_normalization=False,  # divide each input by its std\n        zca_whitening=False,  # apply ZCA whitening\n        rotation_range=10,  # randomly rotate images in the range (degrees, 0 to 180)\n        zoom_range = 0.1, # Randomly zoom image \n        width_shift_range=0.1,  # randomly shift images horizontally (fraction of total width)\n        height_shift_range=0.1,  # randomly shift images vertically (fraction of total height)\n        horizontal_flip=False,  # randomly flip images\n        vertical_flip=False)  # randomly flip images\n\n\ndatagen.fit(x_train)",
      "execution_count": null,
      "outputs": []
    },
    {
      "metadata": {
        "trusted": true,
        "_uuid": "64fbb0ec3094593cf8bc5dc43a560f6279777c7e",
        "collapsed": true
      },
      "cell_type": "code",
      "source": "history = model.fit_generator(datagen.flow(x_train,y_train, batch_size=batch_size),\n                              epochs = epochs, validation_data = (x_val,y_val),\n                              verbose = 2, steps_per_epoch=x_train.shape[0] // batch_size\n                              , callbacks=[lr_reduction])",
      "execution_count": null,
      "outputs": []
    },
    {
      "metadata": {
        "trusted": true,
        "_uuid": "67c2e2f3316462af080d19ce9d48a143dcc28c15",
        "collapsed": true
      },
      "cell_type": "code",
      "source": "fig, ax = plt.subplots(2,1)\nax[0].plot(history.history['loss'], color='b', label=\"Training loss\")\nax[0].plot(history.history['val_loss'], color='r', label=\"validation loss\",axes =ax[0])\nlegend = ax[0].legend(loc='best', shadow=True)\n\nax[1].plot(history.history['acc'], color='b', label=\"Training accuracy\")\nax[1].plot(history.history['val_acc'], color='r',label=\"Validation accuracy\")\nlegend = ax[1].legend(loc='best', shadow=True)",
      "execution_count": null,
      "outputs": []
    },
    {
      "metadata": {
        "trusted": true,
        "_uuid": "8b515bf51930a548e9dbc3ec9e91766bbe2b49d1",
        "collapsed": true
      },
      "cell_type": "code",
      "source": "def plot_confusion_matrix(cm, classes,\n                          normalize=False,\n                          title='Confusion matrix',\n                          cmap=plt.cm.Blues):\n    \"\"\"\n    This function prints and plots the confusion matrix.\n    Normalization can be applied by setting `normalize=True`.\n    \"\"\"\n    plt.imshow(cm, interpolation='nearest', cmap=cmap)\n    plt.title(title)\n    plt.colorbar()\n    tick_marks = np.arange(len(classes))\n    plt.xticks(tick_marks, classes, rotation=45)\n    plt.yticks(tick_marks, classes)\n\n    if normalize:\n        cm = cm.astype('float') / cm.sum(axis=1)[:, np.newaxis]\n\n    thresh = cm.max() / 2.\n    for i, j in itertools.product(range(cm.shape[0]), range(cm.shape[1])):\n        plt.text(j, i, cm[i, j],\n                 horizontalalignment=\"center\",\n                 color=\"white\" if cm[i, j] > thresh else \"black\")\n    plt.tight_layout()\n    plt.ylabel('True label')\n    plt.xlabel('Predicted label')\n\n# Predict the values from the validation dataset\ny_pred = model.predict(x_val)\n# Convert predictions classes to one hot vectors \ny_pred_classes = np.argmax(y_pred,axis = 1) \n# Convert validation observations to one hot vectors\ny_true = np.argmax(y_val,axis = 1) \n# compute the confusion matrix\nconfusion_mtx = confusion_matrix(y_true, y_pred_classes) \n# plot the confusion matrix\nplot_confusion_matrix(confusion_mtx, classes = range(10))\n",
      "execution_count": null,
      "outputs": []
    },
    {
      "metadata": {
        "trusted": true,
        "collapsed": true,
        "_uuid": "409933dabbea512169fb28b2d040a1a6a1697fbf"
      },
      "cell_type": "code",
      "source": "results = model.predict(test)\n\n# select the indix with the maximum probability\nresults = np.argmax(results,axis = 1)\n\nresults = pd.Series(results,name=\"Label\")",
      "execution_count": null,
      "outputs": []
    },
    {
      "metadata": {
        "trusted": true,
        "collapsed": true,
        "_uuid": "7a335af5ad3010ba7cea4688a08f3774c71e5711"
      },
      "cell_type": "code",
      "source": "submission = pd.concat([pd.Series(range(1,28001),name = \"ImageId\"),results],axis = 1)\n\nsubmission.to_csv(\"cnn_mnist_datagen.csv\",index=False)",
      "execution_count": null,
      "outputs": []
    },
    {
      "metadata": {
        "trusted": true,
        "collapsed": true,
        "_uuid": "6d3ddfa0a78e003baa2629f9890a49883320cf46"
      },
      "cell_type": "code",
      "source": "",
      "execution_count": null,
      "outputs": []
    }
  ],
  "metadata": {
    "kernelspec": {
      "display_name": "Python 3",
      "language": "python",
      "name": "python3"
    },
    "language_info": {
      "name": "python",
      "version": "3.6.4",
      "mimetype": "text/x-python",
      "codemirror_mode": {
        "name": "ipython",
        "version": 3
      },
      "pygments_lexer": "ipython3",
      "nbconvert_exporter": "python",
      "file_extension": ".py"
    }
  },
  "nbformat": 4,
  "nbformat_minor": 1
}